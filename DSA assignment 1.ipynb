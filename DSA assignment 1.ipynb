{
 "cells": [
  {
   "cell_type": "markdown",
   "id": "20051038",
   "metadata": {},
   "source": [
    "# Q1. Write a program to find all pairs of an integer array whose sum is equal to a given number?"
   ]
  },
  {
   "cell_type": "code",
   "execution_count": 1,
   "id": "614b71f0",
   "metadata": {},
   "outputs": [
    {
     "name": "stdout",
     "output_type": "stream",
     "text": [
      "Pairs with sum 7 are: [(4, 3), (5, 2), (6, 1)]\n"
     ]
    }
   ],
   "source": [
    "def find_pairs_with_sum(arr, target_sum):\n",
    "    pairs = []\n",
    "    seen = set()\n",
    "\n",
    "    for num in arr:\n",
    "        complement = target_sum - num\n",
    "\n",
    "        if complement in seen:\n",
    "            pairs.append((num, complement))\n",
    "\n",
    "        seen.add(num)\n",
    "\n",
    "    return pairs\n",
    "\n",
    "arr = [1, 2, 3, 4, 5, 6]\n",
    "target_sum = 7\n",
    "result = find_pairs_with_sum(arr, target_sum)\n",
    "\n",
    "if result:\n",
    "    print(\"Pairs with sum\", target_sum, \"are:\", result)\n",
    "else:\n",
    "    print(\"No pairs found with sum\", target_sum)\n"
   ]
  },
  {
   "cell_type": "markdown",
   "id": "82683b55",
   "metadata": {},
   "source": [
    "# Q2. Write a program to reverse an array in place? In place means you cannot create a new array. You have to update the original array."
   ]
  },
  {
   "cell_type": "code",
   "execution_count": 4,
   "id": "48ccaa0b",
   "metadata": {},
   "outputs": [
    {
     "name": "stdout",
     "output_type": "stream",
     "text": [
      "Reversed array: [5, 4, 3, 2, 1]\n"
     ]
    }
   ],
   "source": [
    "def reverse_array_in_place(arr):\n",
    "    left = 0\n",
    "    right = len(arr) - 1\n",
    "\n",
    "    while left < right:\n",
    "        # Swap elements at left and right pointers\n",
    "        arr[left], arr[right] = arr[right], arr[left]\n",
    "\n",
    "        # Move the pointers towards each other\n",
    "        left += 1\n",
    "        right -= 1\n",
    "        \n",
    "arr = [1, 2, 3, 4, 5]\n",
    "reverse_array_in_place(arr)\n",
    "print(\"Reversed array:\", arr)\n"
   ]
  },
  {
   "cell_type": "markdown",
   "id": "8a04ea4d",
   "metadata": {},
   "source": [
    "# Q3. Write a program to check if two strings are a rotation of each other?"
   ]
  },
  {
   "cell_type": "code",
   "execution_count": 5,
   "id": "ae7fe9bb",
   "metadata": {},
   "outputs": [
    {
     "name": "stdout",
     "output_type": "stream",
     "text": [
      "'abcde' and 'cdeab' are rotations of each other.\n"
     ]
    }
   ],
   "source": [
    "def are_rotations(str1, str2):\n",
    "    # Check if both strings have the same length\n",
    "    if len(str1) != len(str2):\n",
    "        return False\n",
    "\n",
    "    # Concatenate str1 with itself\n",
    "    concatenated = str1 + str1\n",
    "\n",
    "    # Check if str2 is a substring of the concatenated string\n",
    "    if str2 in concatenated:\n",
    "        return True\n",
    "    else:\n",
    "        return False\n",
    "\n",
    "str1 = \"abcde\"\n",
    "str2 = \"cdeab\"\n",
    "if are_rotations(str1, str2):\n",
    "    print(f\"'{str1}' and '{str2}' are rotations of each other.\")\n",
    "else:\n",
    "    print(f\"'{str1}' and '{str2}' are not rotations of each other.\")\n"
   ]
  },
  {
   "cell_type": "markdown",
   "id": "7c80b3a5",
   "metadata": {},
   "source": [
    "# Q4. Write a program to print the first non-repeated character from a string?"
   ]
  },
  {
   "cell_type": "code",
   "execution_count": 7,
   "id": "0084d6e5",
   "metadata": {},
   "outputs": [
    {
     "name": "stdout",
     "output_type": "stream",
     "text": [
      "The first non-repeated character is: p\n"
     ]
    }
   ],
   "source": [
    "def first_non_repeated_char(s):\n",
    "    char_count = {}  # Dictionary to store character counts\n",
    "\n",
    "    # Count occurrences of each character in the string\n",
    "    for char in s:\n",
    "        if char in char_count:\n",
    "            char_count[char] += 1\n",
    "        else:\n",
    "            char_count[char] = 1\n",
    "\n",
    "    # Find the first character with a count of 1\n",
    "    for char in s:\n",
    "        if char_count[char] == 1:\n",
    "            return char\n",
    "\n",
    "    # If no unique character is found, return None\n",
    "    return None\n",
    "\n",
    "input_str = \"programming\"\n",
    "result = first_non_repeated_char(input_str)\n",
    "\n",
    "if result:\n",
    "    print(\"The first non-repeated character is:\", result)\n",
    "else:\n",
    "    print(\"No non-repeated characters found in the string.\")\n"
   ]
  },
  {
   "cell_type": "markdown",
   "id": "e928ed0e",
   "metadata": {},
   "source": [
    "# Q5. Read about the Tower of Hanoi algorithm. Write a program to implement it."
   ]
  },
  {
   "cell_type": "code",
   "execution_count": 9,
   "id": "84ff958c",
   "metadata": {},
   "outputs": [
    {
     "name": "stdout",
     "output_type": "stream",
     "text": [
      "Move disk 1 from A to C\n",
      "Move disk 2 from A to B\n",
      "Move disk 1 from C to B\n",
      "Move disk 3 from A to C\n",
      "Move disk 1 from B to A\n",
      "Move disk 2 from B to C\n",
      "Move disk 1 from A to C\n"
     ]
    }
   ],
   "source": [
    "def tower_of_hanoi(n, source_rod, auxiliary_rod, target_rod):\n",
    "    if n == 1:\n",
    "        print(f\"Move disk 1 from {source_rod} to {target_rod}\")\n",
    "        return\n",
    "    tower_of_hanoi(n - 1, source_rod, target_rod, auxiliary_rod)\n",
    "    print(f\"Move disk {n} from {source_rod} to {target_rod}\")\n",
    "    tower_of_hanoi(n - 1, auxiliary_rod, source_rod, target_rod)\n",
    "\n",
    "n = 3  # Number of disks\n",
    "source = \"A\"\n",
    "auxiliary = \"B\"\n",
    "target = \"C\"\n",
    "tower_of_hanoi(n, source, auxiliary, target)\n"
   ]
  },
  {
   "cell_type": "markdown",
   "id": "8a3e1a62",
   "metadata": {},
   "source": [
    "# Q6. Read about infix, prefix, and postfix expressions. Write a program to convert postfix to prefix expression."
   ]
  },
  {
   "cell_type": "code",
   "execution_count": 11,
   "id": "9aa95faa",
   "metadata": {},
   "outputs": [
    {
     "name": "stdout",
     "output_type": "stream",
     "text": [
      "Postfix: 34+\n",
      "Prefix: +34\n"
     ]
    }
   ],
   "source": [
    "def is_operator(char):\n",
    "    return char in \"+-*/\"\n",
    "\n",
    "def postfix_to_prefix(postfix_expression):\n",
    "    stack = []\n",
    "\n",
    "    for char in postfix_expression:\n",
    "        if not is_operator(char):\n",
    "            # If it's an operand, push it to the stack\n",
    "            stack.append(char)\n",
    "        else:\n",
    "            # If it's an operator, pop two operands from the stack\n",
    "            operand2 = stack.pop()\n",
    "            operand1 = stack.pop()\n",
    "            # Combine them with the operator and push the result back to the stack\n",
    "            stack.append(char + operand1 + operand2)\n",
    "\n",
    "    # The final element in the stack is the prefix expression\n",
    "    return stack[0]\n",
    "\n",
    "postfix_expression = \"34+\"\n",
    "prefix_expression = postfix_to_prefix(postfix_expression)\n",
    "print(\"Postfix:\", postfix_expression)\n",
    "print(\"Prefix:\", prefix_expression)\n"
   ]
  },
  {
   "cell_type": "markdown",
   "id": "c6b65b66",
   "metadata": {},
   "source": [
    "# Q7. Write a program to convert prefix expression to infix expression."
   ]
  },
  {
   "cell_type": "code",
   "execution_count": 12,
   "id": "1ad080b3",
   "metadata": {},
   "outputs": [
    {
     "name": "stdout",
     "output_type": "stream",
     "text": [
      "Prefix: +*AB-CD\n",
      "Infix: ((A*B)+(C-D))\n"
     ]
    }
   ],
   "source": [
    "def is_operator(char):\n",
    "    return char in \"+-*/\"\n",
    "\n",
    "def prefix_to_infix(prefix_expression):\n",
    "    stack = []\n",
    "\n",
    "    # Iterate through the prefix expression in reverse order\n",
    "    for char in reversed(prefix_expression):\n",
    "        if not is_operator(char):\n",
    "            # If it's an operand, push it to the stack\n",
    "            stack.append(char)\n",
    "        else:\n",
    "            # If it's an operator, pop two operands from the stack\n",
    "            operand1 = stack.pop()\n",
    "            operand2 = stack.pop()\n",
    "            # Combine them with the operator and enclose in parentheses\n",
    "            infix_expression = f\"({operand1}{char}{operand2})\"\n",
    "            # Push the result back to the stack\n",
    "            stack.append(infix_expression)\n",
    "\n",
    "    # The final element in the stack is the infix expression\n",
    "    return stack[0]\n",
    "\n",
    "prefix_expression = \"+*AB-CD\"\n",
    "infix_expression = prefix_to_infix(prefix_expression)\n",
    "print(\"Prefix:\", prefix_expression)\n",
    "print(\"Infix:\", infix_expression)\n"
   ]
  },
  {
   "cell_type": "markdown",
   "id": "8094d803",
   "metadata": {},
   "source": [
    "# Q8. Write a program to check if all the brackets are closed in a given code snippet."
   ]
  },
  {
   "cell_type": "code",
   "execution_count": 14,
   "id": "ae57973d",
   "metadata": {},
   "outputs": [
    {
     "name": "stdout",
     "output_type": "stream",
     "text": [
      "Brackets are balanced.\n"
     ]
    }
   ],
   "source": [
    "def are_brackets_balanced(code):\n",
    "    stack = []\n",
    "    bracket_pairs = {')': '(', ']': '[', '}': '{'}\n",
    "\n",
    "    for char in code:\n",
    "        if char in '({[':\n",
    "            # If it's an opening bracket, push it onto the stack\n",
    "            stack.append(char)\n",
    "        elif char in ')}]':\n",
    "            # If it's a closing bracket, check if the stack is empty\n",
    "            # or if the top of the stack matches the expected opening bracket\n",
    "            if not stack or stack.pop() != bracket_pairs[char]:\n",
    "                return False\n",
    "\n",
    "    # If the stack is empty at the end, all brackets are balanced\n",
    "    return len(stack) == 0\n",
    "\n",
    "code_snippet = \"if (x > 0) { y = x * 2; }\"\n",
    "if are_brackets_balanced(code_snippet):\n",
    "    print(\"Brackets are balanced.\")\n",
    "else:\n",
    "    print(\"Brackets are not balanced.\")\n"
   ]
  },
  {
   "cell_type": "markdown",
   "id": "16b3917b",
   "metadata": {},
   "source": [
    "# Q9. Write a program to reverse a stack."
   ]
  },
  {
   "cell_type": "code",
   "execution_count": 16,
   "id": "d539c36b",
   "metadata": {},
   "outputs": [
    {
     "name": "stdout",
     "output_type": "stream",
     "text": [
      "[1, 2, 3, 4]\n",
      "[4, 3, 2, 1]\n"
     ]
    }
   ],
   "source": [
    "# Define a stack class with basic operations\n",
    "class Stack:\n",
    "    def __init__(self):\n",
    "        self.items = []\n",
    "\n",
    "    def push(self, item):\n",
    "        self.items.append(item)\n",
    "\n",
    "    def pop(self):\n",
    "        return self.items.pop()\n",
    "\n",
    "    def show(self):\n",
    "        print(self.items)\n",
    "\n",
    "    def empty(self):\n",
    "        return len(self.items) == 0\n",
    "\n",
    "# Define a function to insert an element at the bottom of the stack\n",
    "def BottomInsertion(stack, item):\n",
    "    # Base case: if the stack is empty, push the item\n",
    "    if stack.empty():\n",
    "        stack.push(item)\n",
    "    else:\n",
    "        # Recursive case: pop the top element, insert the item, and push back the popped element\n",
    "        temp = stack.pop()\n",
    "        BottomInsertion(stack, item)\n",
    "        stack.push(temp)\n",
    "\n",
    "# Define a function to reverse the stack using BottomInsertion\n",
    "def Reverse(stack):\n",
    "    # Base case: if the stack is not empty, pop and insert each element at the bottom\n",
    "    if not stack.empty():\n",
    "        temp = stack.pop()\n",
    "        Reverse(stack)\n",
    "        BottomInsertion(stack, temp)\n",
    "\n",
    "# Create a sample stack and reverse it\n",
    "stack = Stack()\n",
    "stack.push(1)\n",
    "stack.push(2)\n",
    "stack.push(3)\n",
    "stack.push(4)\n",
    "stack.show()\n",
    "Reverse(stack)\n",
    "stack.show()\n"
   ]
  },
  {
   "cell_type": "markdown",
   "id": "22a04a31",
   "metadata": {},
   "source": [
    "# Q10. Write a program to find the smallest number using a stack."
   ]
  },
  {
   "cell_type": "code",
   "execution_count": 18,
   "id": "43e2e271",
   "metadata": {},
   "outputs": [
    {
     "name": "stdout",
     "output_type": "stream",
     "text": [
      "Smallest element: 1\n",
      "Smallest element after popping: 2\n"
     ]
    }
   ],
   "source": [
    "class StackWithMin:\n",
    "    def __init__(self):\n",
    "        self.main_stack = []\n",
    "        self.min_stack = []\n",
    "\n",
    "    def push(self, value):\n",
    "        self.main_stack.append(value)\n",
    "        # Update the minimum stack with the current minimum value\n",
    "        if not self.min_stack or value <= self.min_stack[-1]:\n",
    "            self.min_stack.append(value)\n",
    "\n",
    "    def pop(self):\n",
    "        if not self.is_empty():\n",
    "            # If the popped element is the current minimum, remove it from the minimum stack\n",
    "            if self.main_stack[-1] == self.min_stack[-1]:\n",
    "                self.min_stack.pop()\n",
    "            return self.main_stack.pop()\n",
    "\n",
    "    def get_min(self):\n",
    "        if not self.is_empty():\n",
    "            return self.min_stack[-1]\n",
    "\n",
    "    def is_empty(self):\n",
    "        return len(self.main_stack) == 0\n",
    "\n",
    "stack = StackWithMin()\n",
    "stack.push(3)\n",
    "stack.push(5)\n",
    "stack.push(2)\n",
    "stack.push(1)\n",
    "\n",
    "print(\"Smallest element:\", stack.get_min())  # Output: 1\n",
    "\n",
    "stack.pop()\n",
    "print(\"Smallest element after popping:\", stack.get_min())  # Output: 2\n"
   ]
  }
 ],
 "metadata": {
  "kernelspec": {
   "display_name": "Python 3 (ipykernel)",
   "language": "python",
   "name": "python3"
  },
  "language_info": {
   "codemirror_mode": {
    "name": "ipython",
    "version": 3
   },
   "file_extension": ".py",
   "mimetype": "text/x-python",
   "name": "python",
   "nbconvert_exporter": "python",
   "pygments_lexer": "ipython3",
   "version": "3.10.9"
  }
 },
 "nbformat": 4,
 "nbformat_minor": 5
}
